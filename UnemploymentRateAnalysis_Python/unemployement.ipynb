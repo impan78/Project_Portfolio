{
 "cells": [
  {
   "cell_type": "markdown",
   "id": "6c6f6f5e-de64-4a85-bed0-6fd2248f5b1a",
   "metadata": {},
   "source": [
    "# ***Uemployment rate analysis*** #"
   ]
  },
  {
   "cell_type": "code",
   "execution_count": 1,
   "id": "f3ca5a4c-112d-45f9-95d9-0a5cbe4db272",
   "metadata": {},
   "outputs": [],
   "source": [
    "import pandas as pd"
   ]
  },
  {
   "cell_type": "code",
   "execution_count": null,
   "id": "c12c5cd4-5cd7-4d69-8915-f79bc39841e8",
   "metadata": {},
   "outputs": [],
   "source": [
    "df = pd.read_csv('unemployment analysis.csv')"
   ]
  },
  {
   "cell_type": "code",
   "execution_count": 3,
   "id": "432041c1",
   "metadata": {},
   "outputs": [
    {
     "data": {
      "text/html": [
       "<div>\n",
       "<style scoped>\n",
       "    .dataframe tbody tr th:only-of-type {\n",
       "        vertical-align: middle;\n",
       "    }\n",
       "\n",
       "    .dataframe tbody tr th {\n",
       "        vertical-align: top;\n",
       "    }\n",
       "\n",
       "    .dataframe thead th {\n",
       "        text-align: right;\n",
       "    }\n",
       "</style>\n",
       "<table border=\"1\" class=\"dataframe\">\n",
       "  <thead>\n",
       "    <tr style=\"text-align: right;\">\n",
       "      <th></th>\n",
       "      <th>Country Name</th>\n",
       "      <th>Country Code</th>\n",
       "      <th>1991</th>\n",
       "      <th>1992</th>\n",
       "      <th>1993</th>\n",
       "      <th>1994</th>\n",
       "      <th>1995</th>\n",
       "      <th>1996</th>\n",
       "      <th>1997</th>\n",
       "      <th>1998</th>\n",
       "      <th>...</th>\n",
       "      <th>2012</th>\n",
       "      <th>2013</th>\n",
       "      <th>2014</th>\n",
       "      <th>2015</th>\n",
       "      <th>2016</th>\n",
       "      <th>2017</th>\n",
       "      <th>2018</th>\n",
       "      <th>2019</th>\n",
       "      <th>2020</th>\n",
       "      <th>2021</th>\n",
       "    </tr>\n",
       "  </thead>\n",
       "  <tbody>\n",
       "    <tr>\n",
       "      <th>0</th>\n",
       "      <td>Africa Eastern and Southern</td>\n",
       "      <td>AFE</td>\n",
       "      <td>7.80</td>\n",
       "      <td>7.84</td>\n",
       "      <td>7.85</td>\n",
       "      <td>7.84</td>\n",
       "      <td>7.83</td>\n",
       "      <td>7.84</td>\n",
       "      <td>7.86</td>\n",
       "      <td>7.81</td>\n",
       "      <td>...</td>\n",
       "      <td>6.56</td>\n",
       "      <td>6.45</td>\n",
       "      <td>6.41</td>\n",
       "      <td>6.49</td>\n",
       "      <td>6.61</td>\n",
       "      <td>6.71</td>\n",
       "      <td>6.73</td>\n",
       "      <td>6.91</td>\n",
       "      <td>7.56</td>\n",
       "      <td>8.11</td>\n",
       "    </tr>\n",
       "    <tr>\n",
       "      <th>1</th>\n",
       "      <td>Afghanistan</td>\n",
       "      <td>AFG</td>\n",
       "      <td>10.65</td>\n",
       "      <td>10.82</td>\n",
       "      <td>10.72</td>\n",
       "      <td>10.73</td>\n",
       "      <td>11.18</td>\n",
       "      <td>10.96</td>\n",
       "      <td>10.78</td>\n",
       "      <td>10.80</td>\n",
       "      <td>...</td>\n",
       "      <td>11.34</td>\n",
       "      <td>11.19</td>\n",
       "      <td>11.14</td>\n",
       "      <td>11.13</td>\n",
       "      <td>11.16</td>\n",
       "      <td>11.18</td>\n",
       "      <td>11.15</td>\n",
       "      <td>11.22</td>\n",
       "      <td>11.71</td>\n",
       "      <td>13.28</td>\n",
       "    </tr>\n",
       "    <tr>\n",
       "      <th>2</th>\n",
       "      <td>Africa Western and Central</td>\n",
       "      <td>AFW</td>\n",
       "      <td>4.42</td>\n",
       "      <td>4.53</td>\n",
       "      <td>4.55</td>\n",
       "      <td>4.54</td>\n",
       "      <td>4.53</td>\n",
       "      <td>4.57</td>\n",
       "      <td>4.60</td>\n",
       "      <td>4.66</td>\n",
       "      <td>...</td>\n",
       "      <td>4.64</td>\n",
       "      <td>4.41</td>\n",
       "      <td>4.69</td>\n",
       "      <td>4.63</td>\n",
       "      <td>5.57</td>\n",
       "      <td>6.02</td>\n",
       "      <td>6.04</td>\n",
       "      <td>6.06</td>\n",
       "      <td>6.77</td>\n",
       "      <td>6.84</td>\n",
       "    </tr>\n",
       "    <tr>\n",
       "      <th>3</th>\n",
       "      <td>Angola</td>\n",
       "      <td>AGO</td>\n",
       "      <td>4.21</td>\n",
       "      <td>4.21</td>\n",
       "      <td>4.23</td>\n",
       "      <td>4.16</td>\n",
       "      <td>4.11</td>\n",
       "      <td>4.10</td>\n",
       "      <td>4.09</td>\n",
       "      <td>4.07</td>\n",
       "      <td>...</td>\n",
       "      <td>7.35</td>\n",
       "      <td>7.37</td>\n",
       "      <td>7.37</td>\n",
       "      <td>7.39</td>\n",
       "      <td>7.41</td>\n",
       "      <td>7.41</td>\n",
       "      <td>7.42</td>\n",
       "      <td>7.42</td>\n",
       "      <td>8.33</td>\n",
       "      <td>8.53</td>\n",
       "    </tr>\n",
       "    <tr>\n",
       "      <th>4</th>\n",
       "      <td>Albania</td>\n",
       "      <td>ALB</td>\n",
       "      <td>10.31</td>\n",
       "      <td>30.01</td>\n",
       "      <td>25.26</td>\n",
       "      <td>20.84</td>\n",
       "      <td>14.61</td>\n",
       "      <td>13.93</td>\n",
       "      <td>16.88</td>\n",
       "      <td>20.05</td>\n",
       "      <td>...</td>\n",
       "      <td>13.38</td>\n",
       "      <td>15.87</td>\n",
       "      <td>18.05</td>\n",
       "      <td>17.19</td>\n",
       "      <td>15.42</td>\n",
       "      <td>13.62</td>\n",
       "      <td>12.30</td>\n",
       "      <td>11.47</td>\n",
       "      <td>13.33</td>\n",
       "      <td>11.82</td>\n",
       "    </tr>\n",
       "  </tbody>\n",
       "</table>\n",
       "<p>5 rows × 33 columns</p>\n",
       "</div>"
      ],
      "text/plain": [
       "                  Country Name Country Code   1991   1992   1993   1994  \\\n",
       "0  Africa Eastern and Southern          AFE   7.80   7.84   7.85   7.84   \n",
       "1                  Afghanistan          AFG  10.65  10.82  10.72  10.73   \n",
       "2   Africa Western and Central          AFW   4.42   4.53   4.55   4.54   \n",
       "3                       Angola          AGO   4.21   4.21   4.23   4.16   \n",
       "4                      Albania          ALB  10.31  30.01  25.26  20.84   \n",
       "\n",
       "    1995   1996   1997   1998  ...   2012   2013   2014   2015   2016   2017  \\\n",
       "0   7.83   7.84   7.86   7.81  ...   6.56   6.45   6.41   6.49   6.61   6.71   \n",
       "1  11.18  10.96  10.78  10.80  ...  11.34  11.19  11.14  11.13  11.16  11.18   \n",
       "2   4.53   4.57   4.60   4.66  ...   4.64   4.41   4.69   4.63   5.57   6.02   \n",
       "3   4.11   4.10   4.09   4.07  ...   7.35   7.37   7.37   7.39   7.41   7.41   \n",
       "4  14.61  13.93  16.88  20.05  ...  13.38  15.87  18.05  17.19  15.42  13.62   \n",
       "\n",
       "    2018   2019   2020   2021  \n",
       "0   6.73   6.91   7.56   8.11  \n",
       "1  11.15  11.22  11.71  13.28  \n",
       "2   6.04   6.06   6.77   6.84  \n",
       "3   7.42   7.42   8.33   8.53  \n",
       "4  12.30  11.47  13.33  11.82  \n",
       "\n",
       "[5 rows x 33 columns]"
      ]
     },
     "execution_count": 3,
     "metadata": {},
     "output_type": "execute_result"
    }
   ],
   "source": [
    "df.head()"
   ]
  },
  {
   "cell_type": "code",
   "execution_count": 4,
   "id": "bfe1bcc1",
   "metadata": {},
   "outputs": [
    {
     "data": {
      "text/plain": [
       "Country Name    0\n",
       "Country Code    0\n",
       "1991            0\n",
       "1992            0\n",
       "1993            0\n",
       "1994            0\n",
       "1995            0\n",
       "1996            0\n",
       "1997            0\n",
       "1998            0\n",
       "1999            0\n",
       "2000            0\n",
       "2001            0\n",
       "2002            0\n",
       "2003            0\n",
       "2004            0\n",
       "2005            0\n",
       "2006            0\n",
       "2007            0\n",
       "2008            0\n",
       "2009            0\n",
       "2010            0\n",
       "2011            0\n",
       "2012            0\n",
       "2013            0\n",
       "2014            0\n",
       "2015            0\n",
       "2016            0\n",
       "2017            0\n",
       "2018            0\n",
       "2019            0\n",
       "2020            0\n",
       "2021            0\n",
       "dtype: int64"
      ]
     },
     "execution_count": 4,
     "metadata": {},
     "output_type": "execute_result"
    }
   ],
   "source": [
    "df.isna().sum()"
   ]
  },
  {
   "cell_type": "markdown",
   "id": "ff9ac0a3",
   "metadata": {},
   "source": [
    "From above output we can see no empty or null value is there"
   ]
  },
  {
   "cell_type": "code",
   "execution_count": 5,
   "id": "041be483",
   "metadata": {},
   "outputs": [],
   "source": [
    "# df['avg_unemplyement'] = df.loc[:, '1991':'2021'].mean(axis='columns').round(2)"
   ]
  },
  {
   "cell_type": "code",
   "execution_count": 6,
   "id": "c0557078",
   "metadata": {},
   "outputs": [],
   "source": [
    "# df.head(2)"
   ]
  },
  {
   "cell_type": "markdown",
   "id": "62d633ca",
   "metadata": {},
   "source": [
    "# **1. Overall Trends and Patterns**"
   ]
  },
  {
   "cell_type": "code",
   "execution_count": 7,
   "id": "05c567c4",
   "metadata": {},
   "outputs": [
    {
     "data": {
      "text/plain": [
       "Country Name    South Africa\n",
       "2021                   33.56\n",
       "Name: 232, dtype: object"
      ]
     },
     "execution_count": 7,
     "metadata": {},
     "output_type": "execute_result"
    }
   ],
   "source": [
    "df.loc[df['2021'].idxmax(), ['Country Name', '2021']]"
   ]
  },
  {
   "cell_type": "code",
   "execution_count": 8,
   "id": "f2b280b0",
   "metadata": {},
   "outputs": [
    {
     "data": {
      "text/plain": [
       "np.float64(33.56)"
      ]
     },
     "execution_count": 8,
     "metadata": {},
     "output_type": "execute_result"
    }
   ],
   "source": [
    "df['2021'].max()"
   ]
  },
  {
   "cell_type": "code",
   "execution_count": 9,
   "id": "1b94acd8",
   "metadata": {},
   "outputs": [],
   "source": [
    "df.set_index('Country Code',inplace=True)"
   ]
  },
  {
   "cell_type": "markdown",
   "id": "0e29f2b6",
   "metadata": {},
   "source": [
    "**Q1. How has the unemployment rate changed globally over time?**"
   ]
  },
  {
   "cell_type": "code",
   "execution_count": 10,
   "id": "91384d5b",
   "metadata": {},
   "outputs": [],
   "source": [
    "numeric_cols =  df.select_dtypes('number')"
   ]
  },
  {
   "cell_type": "code",
   "execution_count": 11,
   "id": "04292354",
   "metadata": {},
   "outputs": [
    {
     "data": {
      "text/plain": [
       "1991    7.278000\n",
       "1992    7.626340\n",
       "1993    8.070766\n",
       "1994    8.246043\n",
       "1995    8.333915\n",
       "1996    8.494894\n",
       "1997    8.394043\n",
       "1998    8.441064\n",
       "1999    8.568043\n",
       "2000    8.438979\n",
       "2001    8.422213\n",
       "2002    8.593277\n",
       "2003    8.550723\n",
       "2004    8.341702\n",
       "2005    8.121872\n",
       "2006    7.710511\n",
       "2007    7.330340\n",
       "2008    7.204170\n",
       "2009    7.944426\n",
       "2010    8.105149\n",
       "2011    8.041830\n",
       "2012    8.062553\n",
       "2013    8.086468\n",
       "2014    7.924340\n",
       "2015    7.818426\n",
       "2016    7.720979\n",
       "2017    7.485404\n",
       "2018    7.247404\n",
       "2019    7.087362\n",
       "2020    8.278809\n",
       "2021    8.219660\n",
       "dtype: float64"
      ]
     },
     "execution_count": 11,
     "metadata": {},
     "output_type": "execute_result"
    }
   ],
   "source": [
    "numeric_cols.mean()"
   ]
  },
  {
   "cell_type": "markdown",
   "id": "92ea2d15",
   "metadata": {},
   "source": [
    "**Q2. Are there any noticeable patterns in unemployment rates across decades?**"
   ]
  },
  {
   "cell_type": "code",
   "execution_count": 12,
   "id": "799072ff",
   "metadata": {},
   "outputs": [
    {
     "data": {
      "text/html": [
       "<div>\n",
       "<style scoped>\n",
       "    .dataframe tbody tr th:only-of-type {\n",
       "        vertical-align: middle;\n",
       "    }\n",
       "\n",
       "    .dataframe tbody tr th {\n",
       "        vertical-align: top;\n",
       "    }\n",
       "\n",
       "    .dataframe thead th {\n",
       "        text-align: right;\n",
       "    }\n",
       "</style>\n",
       "<table border=\"1\" class=\"dataframe\">\n",
       "  <thead>\n",
       "    <tr style=\"text-align: right;\">\n",
       "      <th></th>\n",
       "      <th>country_name</th>\n",
       "      <th>Max_Year</th>\n",
       "      <th>Max_unemployment_rating</th>\n",
       "      <th>Min_Year</th>\n",
       "      <th>Min_unemployment_rating</th>\n",
       "    </tr>\n",
       "    <tr>\n",
       "      <th>Country Code</th>\n",
       "      <th></th>\n",
       "      <th></th>\n",
       "      <th></th>\n",
       "      <th></th>\n",
       "      <th></th>\n",
       "    </tr>\n",
       "  </thead>\n",
       "  <tbody>\n",
       "    <tr>\n",
       "      <th>AFE</th>\n",
       "      <td>Africa Eastern and Southern</td>\n",
       "      <td>2021</td>\n",
       "      <td>8.11</td>\n",
       "      <td>2008</td>\n",
       "      <td>6.27</td>\n",
       "    </tr>\n",
       "    <tr>\n",
       "      <th>AFG</th>\n",
       "      <td>Afghanistan</td>\n",
       "      <td>2021</td>\n",
       "      <td>13.28</td>\n",
       "      <td>1991</td>\n",
       "      <td>10.65</td>\n",
       "    </tr>\n",
       "    <tr>\n",
       "      <th>AFW</th>\n",
       "      <td>Africa Western and Central</td>\n",
       "      <td>2021</td>\n",
       "      <td>6.84</td>\n",
       "      <td>2013</td>\n",
       "      <td>4.41</td>\n",
       "    </tr>\n",
       "    <tr>\n",
       "      <th>AGO</th>\n",
       "      <td>Angola</td>\n",
       "      <td>2010</td>\n",
       "      <td>9.43</td>\n",
       "      <td>2009</td>\n",
       "      <td>3.78</td>\n",
       "    </tr>\n",
       "    <tr>\n",
       "      <th>ALB</th>\n",
       "      <td>Albania</td>\n",
       "      <td>1992</td>\n",
       "      <td>30.01</td>\n",
       "      <td>1991</td>\n",
       "      <td>10.31</td>\n",
       "    </tr>\n",
       "    <tr>\n",
       "      <th>...</th>\n",
       "      <td>...</td>\n",
       "      <td>...</td>\n",
       "      <td>...</td>\n",
       "      <td>...</td>\n",
       "      <td>...</td>\n",
       "    </tr>\n",
       "    <tr>\n",
       "      <th>WSM</th>\n",
       "      <td>Samoa</td>\n",
       "      <td>2021</td>\n",
       "      <td>9.84</td>\n",
       "      <td>1991</td>\n",
       "      <td>2.10</td>\n",
       "    </tr>\n",
       "    <tr>\n",
       "      <th>YEM</th>\n",
       "      <td>Yemen, Rep.</td>\n",
       "      <td>2015</td>\n",
       "      <td>13.77</td>\n",
       "      <td>1992</td>\n",
       "      <td>8.31</td>\n",
       "    </tr>\n",
       "    <tr>\n",
       "      <th>ZAF</th>\n",
       "      <td>South Africa</td>\n",
       "      <td>2021</td>\n",
       "      <td>33.56</td>\n",
       "      <td>2008</td>\n",
       "      <td>22.41</td>\n",
       "    </tr>\n",
       "    <tr>\n",
       "      <th>ZMB</th>\n",
       "      <td>Zambia</td>\n",
       "      <td>1993</td>\n",
       "      <td>19.70</td>\n",
       "      <td>2012</td>\n",
       "      <td>7.85</td>\n",
       "    </tr>\n",
       "    <tr>\n",
       "      <th>ZWE</th>\n",
       "      <td>Zimbabwe</td>\n",
       "      <td>1997</td>\n",
       "      <td>6.93</td>\n",
       "      <td>2004</td>\n",
       "      <td>4.39</td>\n",
       "    </tr>\n",
       "  </tbody>\n",
       "</table>\n",
       "<p>235 rows × 5 columns</p>\n",
       "</div>"
      ],
      "text/plain": [
       "                             country_name Max_Year  Max_unemployment_rating  \\\n",
       "Country Code                                                                  \n",
       "AFE           Africa Eastern and Southern     2021                     8.11   \n",
       "AFG                           Afghanistan     2021                    13.28   \n",
       "AFW            Africa Western and Central     2021                     6.84   \n",
       "AGO                                Angola     2010                     9.43   \n",
       "ALB                               Albania     1992                    30.01   \n",
       "...                                   ...      ...                      ...   \n",
       "WSM                                 Samoa     2021                     9.84   \n",
       "YEM                           Yemen, Rep.     2015                    13.77   \n",
       "ZAF                          South Africa     2021                    33.56   \n",
       "ZMB                                Zambia     1993                    19.70   \n",
       "ZWE                              Zimbabwe     1997                     6.93   \n",
       "\n",
       "             Min_Year  Min_unemployment_rating  \n",
       "Country Code                                    \n",
       "AFE              2008                     6.27  \n",
       "AFG              1991                    10.65  \n",
       "AFW              2013                     4.41  \n",
       "AGO              2009                     3.78  \n",
       "ALB              1991                    10.31  \n",
       "...               ...                      ...  \n",
       "WSM              1991                     2.10  \n",
       "YEM              1992                     8.31  \n",
       "ZAF              2008                    22.41  \n",
       "ZMB              2012                     7.85  \n",
       "ZWE              2004                     4.39  \n",
       "\n",
       "[235 rows x 5 columns]"
      ]
     },
     "execution_count": 12,
     "metadata": {},
     "output_type": "execute_result"
    }
   ],
   "source": [
    "result = pd.DataFrame({'country_name': df['Country Name'],\n",
    "                      'Max_Year': numeric_cols.idxmax(axis='columns'),\n",
    "                      'Max_unemployment_rating': numeric_cols.max(axis='columns'),\n",
    "                      'Min_Year': numeric_cols.idxmin(axis='columns'),\n",
    "                      'Min_unemployment_rating': numeric_cols.min(axis='columns')\n",
    "                      })\n",
    "\n",
    "result"
   ]
  },
  {
   "cell_type": "code",
   "execution_count": 13,
   "id": "f8c2a5bf",
   "metadata": {},
   "outputs": [
    {
     "data": {
      "text/plain": [
       "Max_Year\n",
       "2021    63\n",
       "2020    29\n",
       "1993    13\n",
       "2010    10\n",
       "2003     9\n",
       "1999     9\n",
       "2002     9\n",
       "2013     9\n",
       "2000     9\n",
       "1997     8\n",
       "1995     8\n",
       "1998     7\n",
       "2005     6\n",
       "1991     5\n",
       "1992     5\n",
       "1996     5\n",
       "2014     4\n",
       "1994     4\n",
       "2009     4\n",
       "2007     4\n",
       "2001     3\n",
       "2006     3\n",
       "2011     3\n",
       "2012     2\n",
       "2016     1\n",
       "2015     1\n",
       "2019     1\n",
       "2017     1\n",
       "Name: country_name, dtype: int64"
      ]
     },
     "execution_count": 13,
     "metadata": {},
     "output_type": "execute_result"
    }
   ],
   "source": [
    "result.groupby('Max_Year').count()['country_name'].sort_values(ascending=False)"
   ]
  },
  {
   "cell_type": "markdown",
   "id": "5731df4e",
   "metadata": {},
   "source": [
    "From Above Insight we can see, In the year of 2021 most countries has highest unemployment rate from this we can conclude that after COVID unemployment rate spiked in most countries."
   ]
  },
  {
   "cell_type": "markdown",
   "id": "aec303c9",
   "metadata": {},
   "source": [
    "**Q3. Which years had the highest and lowest global unemployment rates?**"
   ]
  },
  {
   "cell_type": "code",
   "execution_count": 14,
   "id": "77cb359b",
   "metadata": {},
   "outputs": [
    {
     "data": {
      "text/plain": [
       "1991    7.278000\n",
       "1992    7.626340\n",
       "1993    8.070766\n",
       "1994    8.246043\n",
       "1995    8.333915\n",
       "1996    8.494894\n",
       "1997    8.394043\n",
       "1998    8.441064\n",
       "1999    8.568043\n",
       "2000    8.438979\n",
       "2001    8.422213\n",
       "2002    8.593277\n",
       "2003    8.550723\n",
       "2004    8.341702\n",
       "2005    8.121872\n",
       "2006    7.710511\n",
       "2007    7.330340\n",
       "2008    7.204170\n",
       "2009    7.944426\n",
       "2010    8.105149\n",
       "2011    8.041830\n",
       "2012    8.062553\n",
       "2013    8.086468\n",
       "2014    7.924340\n",
       "2015    7.818426\n",
       "2016    7.720979\n",
       "2017    7.485404\n",
       "2018    7.247404\n",
       "2019    7.087362\n",
       "2020    8.278809\n",
       "2021    8.219660\n",
       "dtype: float64"
      ]
     },
     "execution_count": 14,
     "metadata": {},
     "output_type": "execute_result"
    }
   ],
   "source": [
    "global_avg_uneployment = numeric_cols.mean()\n",
    "global_avg_uneployment"
   ]
  },
  {
   "cell_type": "code",
   "execution_count": 15,
   "id": "57fe8381",
   "metadata": {},
   "outputs": [],
   "source": [
    "max_ = global_avg_uneployment.idxmax()\n",
    "min_ = global_avg_uneployment.idxmin()"
   ]
  },
  {
   "cell_type": "code",
   "execution_count": 16,
   "id": "0a252f10",
   "metadata": {},
   "outputs": [
    {
     "name": "stdout",
     "output_type": "stream",
     "text": [
      "Highest average global unemployment is on the year 2002 and Lowest average global unemployment is on the year 2019.\n"
     ]
    }
   ],
   "source": [
    "print(f\"Highest average global unemployment is on the year {max_} and Lowest average global unemployment is on the year {min_}.\")"
   ]
  },
  {
   "cell_type": "markdown",
   "id": "ecd6a229",
   "metadata": {},
   "source": [
    "# **2. Country-Level Insights**"
   ]
  },
  {
   "cell_type": "markdown",
   "id": "7831c6f4",
   "metadata": {},
   "source": [
    "**Q1. Which country had the highest and lowest unemployment rates in a given year?**"
   ]
  },
  {
   "cell_type": "code",
   "execution_count": 17,
   "id": "f9e4a602",
   "metadata": {},
   "outputs": [],
   "source": [
    "result.set_index('country_name', inplace=True)"
   ]
  },
  {
   "cell_type": "code",
   "execution_count": 18,
   "id": "76d458cd",
   "metadata": {},
   "outputs": [],
   "source": [
    "max_une_rate = result['Max_unemployment_rating'].max().item()\n",
    "max_une_count =  result['Max_unemployment_rating'].idxmax()"
   ]
  },
  {
   "cell_type": "code",
   "execution_count": 19,
   "id": "9c536fe7",
   "metadata": {},
   "outputs": [],
   "source": [
    "min_une_rate = result['Max_unemployment_rating'].min().item()\n",
    "min_une_count =  result['Max_unemployment_rating'].idxmin()"
   ]
  },
  {
   "cell_type": "code",
   "execution_count": 20,
   "id": "9b910048",
   "metadata": {},
   "outputs": [
    {
     "name": "stdout",
     "output_type": "stream",
     "text": [
      "Unemployment is high in North Macedonia with unemployment rate 38.8\n",
      "Unemployment is low in Qatar with unemployemnt rate 0.87\n"
     ]
    }
   ],
   "source": [
    "print(\"Unemployment is high in %s with unemployment rate %s\" % (max_une_count, max_une_rate))\n",
    "print(\"Unemployment is low in %s with unemployemnt rate %s\" % (min_une_count, min_une_rate))"
   ]
  },
  {
   "cell_type": "markdown",
   "id": "15cb1f6c",
   "metadata": {},
   "source": [
    "**Q2. How has the unemployment rate evolved in a specific country over time?**"
   ]
  },
  {
   "cell_type": "code",
   "execution_count": 21,
   "id": "39ec8a70",
   "metadata": {},
   "outputs": [
    {
     "data": {
      "text/plain": [
       "<Axes: >"
      ]
     },
     "execution_count": 21,
     "metadata": {},
     "output_type": "execute_result"
    },
    {
     "data": {
      "image/png": "[encoded data removed]",
      "text/plain": [
       "<Figure size 640x480 with 1 Axes>"
      ]
     },
     "metadata": {},
     "output_type": "display_data"
    }
   ],
   "source": [
    "df.loc[['IND', 'AFG', 'CHN', 'PAK', 'USA'], '1991':'2021'].T.plot()"
   ]
  },
  {
   "cell_type": "markdown",
   "id": "214d30c0",
   "metadata": {},
   "source": [
    "# **3. Yearly Comparisons**"
   ]
  },
  {
   "cell_type": "markdown",
   "id": "7600d66b",
   "metadata": {},
   "source": [
    "**Q1. How does the unemployment rate in 2020 (COVID-19) compare to previous years?**"
   ]
  },
  {
   "cell_type": "code",
   "execution_count": 22,
   "id": "2fad26f3",
   "metadata": {},
   "outputs": [
    {
     "data": {
      "text/plain": [
       "2018    7.247404\n",
       "2019    7.087362\n",
       "2020    8.278809\n",
       "2021    8.219660\n",
       "dtype: float64"
      ]
     },
     "execution_count": 22,
     "metadata": {},
     "output_type": "execute_result"
    }
   ],
   "source": [
    "global_avg_uneployment['2018':'2021']"
   ]
  },
  {
   "cell_type": "code",
   "execution_count": 23,
   "id": "af802112",
   "metadata": {},
   "outputs": [
    {
     "name": "stdout",
     "output_type": "stream",
     "text": [
      "Global Unemployment Increase in 2020: 16.81%\n"
     ]
    }
   ],
   "source": [
    "increase_2020 = ((global_avg_uneployment['2020'] - global_avg_uneployment['2019']) / global_avg_uneployment['2019']) * 100\n",
    "print(f\"Global Unemployment Increase in 2020: {increase_2020:.2f}%\")"
   ]
  },
  {
   "cell_type": "markdown",
   "id": "b6386c94",
   "metadata": {},
   "source": [
    "**Q2. Were there any global economic crises that led to sharp changes in unemployment?**"
   ]
  },
  {
   "cell_type": "code",
   "execution_count": 28,
   "id": "65869218",
   "metadata": {},
   "outputs": [
    {
     "data": {
      "text/plain": [
       "<Axes: title={'center': 'Global unemploymet trends (1991 - 2021)'}>"
      ]
     },
     "execution_count": 28,
     "metadata": {},
     "output_type": "execute_result"
    },
    {
     "data": {
      "image/png": "[encoded data removed]",
      "text/plain": [
       "<Figure size 640x480 with 1 Axes>"
      ]
     },
     "metadata": {},
     "output_type": "display_data"
    }
   ],
   "source": [
    "global_avg_uneployment.plot(title=\"Global unemploymet trends (1991 - 2021)\")"
   ]
  },
  {
   "cell_type": "markdown",
   "id": "fd3593dd",
   "metadata": {},
   "source": [
    "# **4. Statistical Insights**"
   ]
  },
  {
   "cell_type": "markdown",
   "id": "2a06cf44",
   "metadata": {},
   "source": [
    "**Q1. What is the average, median, and standard deviation of unemployment rates per year?**"
   ]
  },
  {
   "cell_type": "code",
   "execution_count": 35,
   "id": "c0c6022b",
   "metadata": {},
   "outputs": [
    {
     "data": {
      "text/html": [
       "<div>\n",
       "<style scoped>\n",
       "    .dataframe tbody tr th:only-of-type {\n",
       "        vertical-align: middle;\n",
       "    }\n",
       "\n",
       "    .dataframe tbody tr th {\n",
       "        vertical-align: top;\n",
       "    }\n",
       "\n",
       "    .dataframe thead th {\n",
       "        text-align: right;\n",
       "    }\n",
       "</style>\n",
       "<table border=\"1\" class=\"dataframe\">\n",
       "  <thead>\n",
       "    <tr style=\"text-align: right;\">\n",
       "      <th></th>\n",
       "      <th>Average</th>\n",
       "      <th>Median</th>\n",
       "      <th>Standered_Deviation</th>\n",
       "    </tr>\n",
       "  </thead>\n",
       "  <tbody>\n",
       "    <tr>\n",
       "      <th>1991</th>\n",
       "      <td>7.278000</td>\n",
       "      <td>5.41</td>\n",
       "      <td>6.013749</td>\n",
       "    </tr>\n",
       "    <tr>\n",
       "      <th>1992</th>\n",
       "      <td>7.626340</td>\n",
       "      <td>5.71</td>\n",
       "      <td>6.296617</td>\n",
       "    </tr>\n",
       "    <tr>\n",
       "      <th>1993</th>\n",
       "      <td>8.070766</td>\n",
       "      <td>6.03</td>\n",
       "      <td>6.335855</td>\n",
       "    </tr>\n",
       "    <tr>\n",
       "      <th>1994</th>\n",
       "      <td>8.246043</td>\n",
       "      <td>6.55</td>\n",
       "      <td>6.243778</td>\n",
       "    </tr>\n",
       "    <tr>\n",
       "      <th>1995</th>\n",
       "      <td>8.333915</td>\n",
       "      <td>6.70</td>\n",
       "      <td>6.330822</td>\n",
       "    </tr>\n",
       "    <tr>\n",
       "      <th>1996</th>\n",
       "      <td>8.494894</td>\n",
       "      <td>7.05</td>\n",
       "      <td>6.358431</td>\n",
       "    </tr>\n",
       "    <tr>\n",
       "      <th>1997</th>\n",
       "      <td>8.394043</td>\n",
       "      <td>6.93</td>\n",
       "      <td>6.206845</td>\n",
       "    </tr>\n",
       "    <tr>\n",
       "      <th>1998</th>\n",
       "      <td>8.441064</td>\n",
       "      <td>6.89</td>\n",
       "      <td>6.133045</td>\n",
       "    </tr>\n",
       "    <tr>\n",
       "      <th>1999</th>\n",
       "      <td>8.568043</td>\n",
       "      <td>6.69</td>\n",
       "      <td>6.088361</td>\n",
       "    </tr>\n",
       "    <tr>\n",
       "      <th>2000</th>\n",
       "      <td>8.438979</td>\n",
       "      <td>6.53</td>\n",
       "      <td>6.126318</td>\n",
       "    </tr>\n",
       "    <tr>\n",
       "      <th>2001</th>\n",
       "      <td>8.422213</td>\n",
       "      <td>6.39</td>\n",
       "      <td>6.150849</td>\n",
       "    </tr>\n",
       "    <tr>\n",
       "      <th>2002</th>\n",
       "      <td>8.593277</td>\n",
       "      <td>6.77</td>\n",
       "      <td>6.267334</td>\n",
       "    </tr>\n",
       "    <tr>\n",
       "      <th>2003</th>\n",
       "      <td>8.550723</td>\n",
       "      <td>6.69</td>\n",
       "      <td>6.150499</td>\n",
       "    </tr>\n",
       "    <tr>\n",
       "      <th>2004</th>\n",
       "      <td>8.341702</td>\n",
       "      <td>6.51</td>\n",
       "      <td>6.006911</td>\n",
       "    </tr>\n",
       "    <tr>\n",
       "      <th>2005</th>\n",
       "      <td>8.121872</td>\n",
       "      <td>6.67</td>\n",
       "      <td>5.904257</td>\n",
       "    </tr>\n",
       "    <tr>\n",
       "      <th>2006</th>\n",
       "      <td>7.710511</td>\n",
       "      <td>6.14</td>\n",
       "      <td>5.679433</td>\n",
       "    </tr>\n",
       "    <tr>\n",
       "      <th>2007</th>\n",
       "      <td>7.330340</td>\n",
       "      <td>5.77</td>\n",
       "      <td>5.471499</td>\n",
       "    </tr>\n",
       "    <tr>\n",
       "      <th>2008</th>\n",
       "      <td>7.204170</td>\n",
       "      <td>5.79</td>\n",
       "      <td>5.276742</td>\n",
       "    </tr>\n",
       "    <tr>\n",
       "      <th>2009</th>\n",
       "      <td>7.944426</td>\n",
       "      <td>6.41</td>\n",
       "      <td>5.402894</td>\n",
       "    </tr>\n",
       "    <tr>\n",
       "      <th>2010</th>\n",
       "      <td>8.105149</td>\n",
       "      <td>6.84</td>\n",
       "      <td>5.648686</td>\n",
       "    </tr>\n",
       "    <tr>\n",
       "      <th>2011</th>\n",
       "      <td>8.041830</td>\n",
       "      <td>6.50</td>\n",
       "      <td>5.675180</td>\n",
       "    </tr>\n",
       "    <tr>\n",
       "      <th>2012</th>\n",
       "      <td>8.062553</td>\n",
       "      <td>6.45</td>\n",
       "      <td>5.780173</td>\n",
       "    </tr>\n",
       "    <tr>\n",
       "      <th>2013</th>\n",
       "      <td>8.086468</td>\n",
       "      <td>6.29</td>\n",
       "      <td>5.832019</td>\n",
       "    </tr>\n",
       "    <tr>\n",
       "      <th>2014</th>\n",
       "      <td>7.924340</td>\n",
       "      <td>6.15</td>\n",
       "      <td>5.699899</td>\n",
       "    </tr>\n",
       "    <tr>\n",
       "      <th>2015</th>\n",
       "      <td>7.818426</td>\n",
       "      <td>6.08</td>\n",
       "      <td>5.574759</td>\n",
       "    </tr>\n",
       "    <tr>\n",
       "      <th>2016</th>\n",
       "      <td>7.720979</td>\n",
       "      <td>6.01</td>\n",
       "      <td>5.456333</td>\n",
       "    </tr>\n",
       "    <tr>\n",
       "      <th>2017</th>\n",
       "      <td>7.485404</td>\n",
       "      <td>5.80</td>\n",
       "      <td>5.318381</td>\n",
       "    </tr>\n",
       "    <tr>\n",
       "      <th>2018</th>\n",
       "      <td>7.247404</td>\n",
       "      <td>5.62</td>\n",
       "      <td>5.240429</td>\n",
       "    </tr>\n",
       "    <tr>\n",
       "      <th>2019</th>\n",
       "      <td>7.087362</td>\n",
       "      <td>5.53</td>\n",
       "      <td>5.129146</td>\n",
       "    </tr>\n",
       "    <tr>\n",
       "      <th>2020</th>\n",
       "      <td>8.278809</td>\n",
       "      <td>6.80</td>\n",
       "      <td>5.470319</td>\n",
       "    </tr>\n",
       "    <tr>\n",
       "      <th>2021</th>\n",
       "      <td>8.219660</td>\n",
       "      <td>6.58</td>\n",
       "      <td>5.506914</td>\n",
       "    </tr>\n",
       "  </tbody>\n",
       "</table>\n",
       "</div>"
      ],
      "text/plain": [
       "       Average  Median  Standered_Deviation\n",
       "1991  7.278000    5.41             6.013749\n",
       "1992  7.626340    5.71             6.296617\n",
       "1993  8.070766    6.03             6.335855\n",
       "1994  8.246043    6.55             6.243778\n",
       "1995  8.333915    6.70             6.330822\n",
       "1996  8.494894    7.05             6.358431\n",
       "1997  8.394043    6.93             6.206845\n",
       "1998  8.441064    6.89             6.133045\n",
       "1999  8.568043    6.69             6.088361\n",
       "2000  8.438979    6.53             6.126318\n",
       "2001  8.422213    6.39             6.150849\n",
       "2002  8.593277    6.77             6.267334\n",
       "2003  8.550723    6.69             6.150499\n",
       "2004  8.341702    6.51             6.006911\n",
       "2005  8.121872    6.67             5.904257\n",
       "2006  7.710511    6.14             5.679433\n",
       "2007  7.330340    5.77             5.471499\n",
       "2008  7.204170    5.79             5.276742\n",
       "2009  7.944426    6.41             5.402894\n",
       "2010  8.105149    6.84             5.648686\n",
       "2011  8.041830    6.50             5.675180\n",
       "2012  8.062553    6.45             5.780173\n",
       "2013  8.086468    6.29             5.832019\n",
       "2014  7.924340    6.15             5.699899\n",
       "2015  7.818426    6.08             5.574759\n",
       "2016  7.720979    6.01             5.456333\n",
       "2017  7.485404    5.80             5.318381\n",
       "2018  7.247404    5.62             5.240429\n",
       "2019  7.087362    5.53             5.129146\n",
       "2020  8.278809    6.80             5.470319\n",
       "2021  8.219660    6.58             5.506914"
      ]
     },
     "execution_count": 35,
     "metadata": {},
     "output_type": "execute_result"
    }
   ],
   "source": [
    "stats = pd.concat([numeric_cols.mean(), numeric_cols.median(), numeric_cols.std()],\n",
    "                   axis='columns').rename(columns={0: \"Average\", 1:\"Median\", 2: \"Standered_Deviation\"})\n",
    "stats"
   ]
  },
  {
   "cell_type": "code",
   "execution_count": 38,
   "id": "186b38bb",
   "metadata": {},
   "outputs": [
    {
     "data": {
      "text/plain": [
       "<Axes: title={'center': 'Statastic Trend of Unemployment'}>"
      ]
     },
     "execution_count": 38,
     "metadata": {},
     "output_type": "execute_result"
    },
    {
     "data": {
      "image/png": "[encoded data removed]",
      "text/plain": [
       "<Figure size 640x480 with 1 Axes>"
      ]
     },
     "metadata": {},
     "output_type": "display_data"
    }
   ],
   "source": [
    "stats.plot(title=\"Statastic Trend of Unemployment\")"
   ]
  }
 ],
 "metadata": {
  "kernelspec": {
   "display_name": "Python 3",
   "language": "python",
   "name": "python3"
  },
  "language_info": {
   "codemirror_mode": {
    "name": "ipython",
    "version": 3
   },
   "file_extension": ".py",
   "mimetype": "text/x-python",
   "name": "python",
   "nbconvert_exporter": "python",
   "pygments_lexer": "ipython3",
   "version": "3.12.4"
  }
 },
 "nbformat": 4,
 "nbformat_minor": 5
}
